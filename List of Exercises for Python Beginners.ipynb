{
 "cells": [
  {
   "cell_type": "markdown",
   "id": "4ab9d31c",
   "metadata": {},
   "source": [
    "Variables\n",
    "1. Introduction to Variables\n",
    "\n",
    "Write a program that declares and initializes variables of different data types (integer, float, string). Print each variable.\n"
   ]
  },
  {
   "cell_type": "code",
   "execution_count": null,
   "id": "491b97de",
   "metadata": {},
   "outputs": [],
   "source": [
    "#Example\n",
    "age = 25\n",
    "height = 5.9\n",
    "name = \"Alice\"\n",
    "print(age, height, name)\n"
   ]
  },
  {
   "cell_type": "markdown",
   "id": "0e925955",
   "metadata": {},
   "source": [
    "2. Variable Swap\n",
    "\n",
    "Write a program to swap the values of two variables without using a third variable. Print the variables before and after swapping."
   ]
  },
  {
   "cell_type": "code",
   "execution_count": null,
   "id": "108b31e5",
   "metadata": {},
   "outputs": [],
   "source": [
    "#Example\n",
    "a = 5\n",
    "b = 10\n",
    "# Swap code here\n",
    "print(a, b)  # Output: 10 5\n"
   ]
  },
  {
   "cell_type": "markdown",
   "id": "c7ab1cde",
   "metadata": {},
   "source": [
    "Calculations\n",
    "3. Basic Arithmetic Operations\n",
    "\n",
    "Write a program that takes two numbers from the user and performs addition, subtraction, multiplication, and division. Print the results."
   ]
  },
  {
   "cell_type": "code",
   "execution_count": null,
   "id": "656d408a",
   "metadata": {},
   "outputs": [],
   "source": [
    "#Example\n",
    "a = 10\n",
    "b = 2\n",
    "# Perform operations\n",
    "print(addition, subtraction, multiplication, division)\n"
   ]
  },
  {
   "cell_type": "markdown",
   "id": "887393e9",
   "metadata": {},
   "source": [
    "4. Area and Perimeter Calculation\n",
    "\n",
    "Write a program to calculate the area and perimeter of a rectangle. Take length and width as inputs from the user."
   ]
  },
  {
   "cell_type": "code",
   "execution_count": null,
   "id": "510d7452",
   "metadata": {},
   "outputs": [],
   "source": [
    "#Example\n",
    "length = 5\n",
    "width = 3\n",
    "# Calculate area and perimeter\n",
    "print(area, perimeter)\n"
   ]
  },
  {
   "cell_type": "markdown",
   "id": "6433828a",
   "metadata": {},
   "source": [
    "String Operations\n",
    "5. String Concatenation and Length\n",
    "\n",
    "Write a program that concatenates two strings and prints the length of the resulting string."
   ]
  },
  {
   "cell_type": "code",
   "execution_count": null,
   "id": "3128b263",
   "metadata": {},
   "outputs": [],
   "source": [
    "#Example\n",
    "str1 = \"Hello\"\n",
    "str2 = \"World\"\n",
    "result = str1 + str2\n",
    "print(len(result))\n"
   ]
  },
  {
   "cell_type": "markdown",
   "id": "4589e39b",
   "metadata": {},
   "source": [
    "6. Substring and Case Change\n",
    "\n",
    "Write a program that takes a string input from the user and performs the following operations:\n",
    "Convert the string to uppercase.\n",
    "Extract and print a substring from the 2nd to the 5th character."
   ]
  },
  {
   "cell_type": "code",
   "execution_count": null,
   "id": "4dc0d6ba",
   "metadata": {},
   "outputs": [],
   "source": [
    "#Example\n",
    "string = \"programming\"\n",
    "print(string.upper())\n",
    "print(string[1:5])\n"
   ]
  },
  {
   "cell_type": "markdown",
   "id": "93cd5a24",
   "metadata": {},
   "source": [
    "Lists\n",
    "7. List Creation and Access\n",
    "\n",
    "Write a program to create a list of integers and print each element using a for loop."
   ]
  },
  {
   "cell_type": "code",
   "execution_count": null,
   "id": "45e95a42",
   "metadata": {},
   "outputs": [],
   "source": [
    "#Example\n",
    "numbers = [1, 2, 3, 4, 5]\n",
    "for number in numbers:\n",
    "    print(number)\n"
   ]
  },
  {
   "cell_type": "markdown",
   "id": "b6fa7706",
   "metadata": {},
   "source": [
    "8. List Manipulation\n",
    "\n",
    "Write a program that appends an element to a list, removes an element, and sorts the list. Print the list after each operation."
   ]
  },
  {
   "cell_type": "code",
   "execution_count": null,
   "id": "c3715e7e",
   "metadata": {},
   "outputs": [],
   "source": [
    "#Example\n",
    "fruits = [\"apple\", \"banana\", \"cherry\"]\n",
    "fruits.append(\"date\")\n",
    "fruits.remove(\"banana\")\n",
    "fruits.sort()\n",
    "print(fruits)\n"
   ]
  },
  {
   "cell_type": "markdown",
   "id": "5d024975",
   "metadata": {},
   "source": [
    "Loop (for and while)\n",
    "9. For Loop Basics\n",
    "\n",
    "Write a program that prints the numbers from 1 to 10 using a for loop.\n"
   ]
  },
  {
   "cell_type": "code",
   "execution_count": null,
   "id": "cbc9c36b",
   "metadata": {},
   "outputs": [],
   "source": [
    "#Example\n",
    "for i in range(1, 11):\n",
    "    print(i)\n"
   ]
  },
  {
   "cell_type": "markdown",
   "id": "dbfe7545",
   "metadata": {},
   "source": [
    "10. While Loop Basics\n",
    "\n",
    "Write a program that prints the numbers from 10 to 1 using a while loop."
   ]
  },
  {
   "cell_type": "code",
   "execution_count": null,
   "id": "336d0558",
   "metadata": {},
   "outputs": [],
   "source": [
    "#Example\n",
    "i = 10\n",
    "while i > 0:\n",
    "    print(i)\n",
    "    i -= 1\n"
   ]
  },
  {
   "cell_type": "markdown",
   "id": "7b622971",
   "metadata": {},
   "source": [
    "Index\n",
    "11. List Indexing\n",
    "\n",
    "Write a program to access and print the first, third, and last elements of a list."
   ]
  },
  {
   "cell_type": "code",
   "execution_count": null,
   "id": "142faed0",
   "metadata": {},
   "outputs": [],
   "source": [
    "#Example\n",
    "colors = [\"red\", \"green\", \"blue\", \"yellow\"]\n",
    "print(colors[0], colors[2], colors[-1])\n"
   ]
  },
  {
   "cell_type": "markdown",
   "id": "fce7a070",
   "metadata": {},
   "source": [
    "12. Index Error Handling\n",
    "\n",
    "Write a program that tries to access an index out of range in a list and handles the resulting error using try-except."
   ]
  },
  {
   "cell_type": "code",
   "execution_count": null,
   "id": "e4b18efe",
   "metadata": {},
   "outputs": [],
   "source": [
    "#Example\n",
    "items = [1, 2, 3]\n",
    "try:\n",
    "    print(items[5])\n",
    "except IndexError as e:\n",
    "    print(\"Index out of range:\", e)\n"
   ]
  },
  {
   "cell_type": "markdown",
   "id": "b56bc2d8",
   "metadata": {},
   "source": [
    "Operations in List\n",
    "\n",
    "13. Sum and Average\n",
    "\n",
    "Write a program to find the sum and average of all elements in a list."
   ]
  },
  {
   "cell_type": "code",
   "execution_count": null,
   "id": "01f9eac7",
   "metadata": {},
   "outputs": [],
   "source": [
    "#Example\n",
    "numbers = [10, 20, 30, 40, 50]\n",
    "total = sum(numbers)\n",
    "average = total / len(numbers)\n",
    "print(total, average)\n"
   ]
  },
  {
   "cell_type": "markdown",
   "id": "ce67d419",
   "metadata": {},
   "source": [
    "14. List Comprehension for Squaring\n",
    "\n",
    "Write a program that creates a new list with the squares of all elements from an existing list using list comprehension."
   ]
  },
  {
   "cell_type": "code",
   "execution_count": null,
   "id": "dcaa61b4",
   "metadata": {},
   "outputs": [],
   "source": [
    "#Example\n",
    "numbers = [1, 2, 3, 4, 5]\n",
    "squares = [x**2 for x in numbers]\n",
    "print(squares)\n"
   ]
  },
  {
   "cell_type": "markdown",
   "id": "3738161e",
   "metadata": {},
   "source": [
    "15. Tasks with Lists\n",
    "Find Maximum and Minimum\n",
    "\n",
    "Write a program that finds and prints the maximum and minimum elements in a list."
   ]
  },
  {
   "cell_type": "code",
   "execution_count": null,
   "id": "066b738d",
   "metadata": {},
   "outputs": [],
   "source": [
    "#Example\n",
    "numbers = [23, 1, 56, 3, 78, 4]\n",
    "print(max(numbers), min(numbers))\n"
   ]
  },
  {
   "cell_type": "markdown",
   "id": "5e3e2308",
   "metadata": {},
   "source": [
    "16. Reverse List\n",
    "\n",
    "Write a program to reverse a list without using the built-in reverse function."
   ]
  },
  {
   "cell_type": "code",
   "execution_count": null,
   "id": "4be99239",
   "metadata": {},
   "outputs": [],
   "source": [
    "#Example\n",
    "items = [1, 2, 3, 4, 5]\n",
    "reversed_items = items[::-1]\n",
    "print(reversed_items)\n"
   ]
  },
  {
   "cell_type": "markdown",
   "id": "ed3497ff",
   "metadata": {},
   "source": [
    "Dictionaries\n",
    "17. Create and Access Dictionary\n",
    "\n",
    "Write a program to create a dictionary and print each key-value pair."
   ]
  },
  {
   "cell_type": "code",
   "execution_count": null,
   "id": "42be5126",
   "metadata": {},
   "outputs": [],
   "source": [
    "#Example\n",
    "student = {\"name\": \"Alice\", \"age\": 25, \"grade\": \"A\"}\n",
    "for key, value in student.items():\n",
    "    print(key, value)\n"
   ]
  },
  {
   "cell_type": "markdown",
   "id": "6b5d2771",
   "metadata": {},
   "source": [
    "18. Dictionary Update and Deletion\n",
    "\n",
    "Write a program to add a new key-value pair to a dictionary, update an existing value, and delete a key-value pair."
   ]
  },
  {
   "cell_type": "code",
   "execution_count": null,
   "id": "47a93795",
   "metadata": {},
   "outputs": [],
   "source": [
    "#Example\n",
    "person = {\"name\": \"Bob\", \"age\": 30}\n",
    "person[\"city\"] = \"New York\"\n",
    "person[\"age\"] = 31\n",
    "del person[\"name\"]\n",
    "print(person)\n"
   ]
  },
  {
   "cell_type": "markdown",
   "id": "2fcec729",
   "metadata": {},
   "source": [
    "Tasks with Dictionaries\n",
    "19. Count Characters in String\n",
    "\n",
    "Write a program to count the occurrence of each character in a string and store the counts in a dictionary."
   ]
  },
  {
   "cell_type": "code",
   "execution_count": null,
   "id": "cddf4079",
   "metadata": {},
   "outputs": [],
   "source": [
    "#Example\n",
    "string = \"hello\"\n",
    "char_count = {}\n",
    "for char in string:\n",
    "    if char in char_count:\n",
    "        char_count[char] += 1\n",
    "    else:\n",
    "        char_count[char] = 1\n",
    "print(char_count)\n"
   ]
  },
  {
   "cell_type": "markdown",
   "id": "7d2e4ab5",
   "metadata": {},
   "source": [
    "20. Merge Dictionaries\n",
    "\n",
    "Write a program to merge two dictionaries into one."
   ]
  },
  {
   "cell_type": "code",
   "execution_count": null,
   "id": "57e90345",
   "metadata": {},
   "outputs": [],
   "source": [
    "#Example\n",
    "dict1 = {\"a\": 1, \"b\": 2}\n",
    "dict2 = {\"b\": 3, \"c\": 4}\n",
    "merged_dict = {**dict1, **dict2}\n",
    "print(merged_dict)\n"
   ]
  },
  {
   "cell_type": "markdown",
   "id": "8286ebc2",
   "metadata": {},
   "source": [
    "Comparisons with Integers and Strings\n",
    "21. Integer Comparison\n",
    "\n",
    "Write a program to compare two integers and print which one is greater or if they are equal."
   ]
  },
  {
   "cell_type": "code",
   "execution_count": null,
   "id": "2304c7b0",
   "metadata": {},
   "outputs": [],
   "source": [
    "#Example\n",
    "a = 10\n",
    "b = 20\n",
    "if a > b:\n",
    "    print(\"a is greater\")\n",
    "elif a < b:\n",
    "    print(\"b is greater\")\n",
    "else:\n",
    "    print(\"a and b are equal\")\n"
   ]
  },
  {
   "cell_type": "markdown",
   "id": "437c3f4c",
   "metadata": {},
   "source": [
    "22. String Comparison\n",
    "\n",
    "Write a program to compare two strings lexicographically and print the result."
   ]
  },
  {
   "cell_type": "code",
   "execution_count": null,
   "id": "0a8dd901",
   "metadata": {},
   "outputs": [],
   "source": [
    "#Example\n",
    "str1 = \"apple\"\n",
    "str2 = \"banana\"\n",
    "if str1 > str2:\n",
    "    print(\"str1 is greater\")\n",
    "elif str1 < str2:\n",
    "    print(\"str2 is greater\")\n",
    "else:\n",
    "    print(\"str1 and str2 are equal\")\n"
   ]
  },
  {
   "cell_type": "markdown",
   "id": "0c0a4145",
   "metadata": {},
   "source": [
    "If Statement\n",
    "23. Odd or Even\n",
    "\n",
    "Write a program that takes an integer input from the user and prints whether it is odd or even."
   ]
  },
  {
   "cell_type": "code",
   "execution_count": null,
   "id": "4575b330",
   "metadata": {},
   "outputs": [],
   "source": [
    "#Example\n",
    "number = int(input(\"Enter a number: \"))\n",
    "if number % 2 == 0:\n",
    "    print(\"Even\")\n",
    "else:\n",
    "    print(\"Odd\")\n"
   ]
  },
  {
   "cell_type": "markdown",
   "id": "f2e02c05",
   "metadata": {},
   "source": [
    "24. Grade Classification\n",
    "\n",
    "Write a program that takes a numerical grade from the user and prints the corresponding letter grade (A, B, C, D, or F)."
   ]
  },
  {
   "cell_type": "code",
   "execution_count": null,
   "id": "0b91e4be",
   "metadata": {},
   "outputs": [],
   "source": [
    "#Example\n",
    "grade = int(input(\"Enter your grade: \"))\n",
    "if grade >= 90:\n",
    "    print(\"A\")\n",
    "elif grade >= 80:\n",
    "    print(\"B\")\n",
    "elif grade >= 70:\n",
    "    print(\"C\")\n",
    "elif grade >= 60:\n",
    "    print(\"D\")\n",
    "else:\n",
    "    print(\"F\")\n"
   ]
  },
  {
   "cell_type": "markdown",
   "id": "7c862ca8",
   "metadata": {},
   "source": [
    "Tasks with Input\n",
    "25. User Greeting\n",
    "\n",
    "Write a program that takes the user's name as input and prints a personalized greeting."
   ]
  },
  {
   "cell_type": "code",
   "execution_count": null,
   "id": "9ead9193",
   "metadata": {},
   "outputs": [],
   "source": [
    "#Example\n",
    "name = input(\"Enter your name: \")\n",
    "print(\"Hello, \" + name + \"!\")\n"
   ]
  },
  {
   "cell_type": "markdown",
   "id": "a8be29b9",
   "metadata": {},
   "source": [
    "26. Simple Calculator\n",
    "\n",
    "Write a program that takes two numbers and an operator (+, -, *, /) as input and performs the corresponding calculation."
   ]
  },
  {
   "cell_type": "code",
   "execution_count": null,
   "id": "9df54912",
   "metadata": {},
   "outputs": [],
   "source": [
    "#Example\n",
    "num1 = float(input(\"Enter first number: \"))\n",
    "num2 = float(input(\"Enter second number: \"))\n",
    "operator = input(\"Enter operator (+, -, *, /): \")\n",
    "if operator == \"+\":\n",
    "    print(num1 + num2)\n",
    "elif operator == \"-\":\n",
    "    print(num1 - num2)\n",
    "elif operator == \"*\":\n",
    "    print(num1 * num2)\n",
    "elif operator == \"/\":\n",
    "    print(num1 / num2)\n",
    "else:\n",
    "    print(\"Invalid operator\")\n"
   ]
  },
  {
   "cell_type": "markdown",
   "id": "e009c214",
   "metadata": {},
   "source": [
    "Tasks with Input and Loop\n",
    "27. Sum of User Input\n",
    "\n",
    "Write a program that continuously takes integer inputs from the user until the user enters 0. Print the sum of all entered numbers."
   ]
  },
  {
   "cell_type": "code",
   "execution_count": null,
   "id": "dceb18fb",
   "metadata": {},
   "outputs": [],
   "source": [
    "#Example\n",
    "total = 0\n",
    "while True:\n",
    "    num = int(input(\"Enter a number (0 to stop): \"))\n",
    "    if num == 0:\n",
    "        break\n",
    "    total += num\n",
    "print(\"Total sum:\", total)\n"
   ]
  },
  {
   "cell_type": "markdown",
   "id": "32e57234",
   "metadata": {},
   "source": [
    "28. User Input Validation\n",
    "\n",
    "Write a program that takes a user's age as input and keeps asking until a valid age (positive integer) is entered."
   ]
  },
  {
   "cell_type": "code",
   "execution_count": null,
   "id": "abf09f17",
   "metadata": {},
   "outputs": [],
   "source": [
    "#Example\n",
    "while True:\n",
    "    age = int(input(\"Enter your age: \"))\n",
    "    if age > 0:\n",
    "        break\n",
    "    print(\"Invalid age, please try again.\")\n",
    "print(\"Your age is:\", age)\n"
   ]
  },
  {
   "cell_type": "markdown",
   "id": "226c4334",
   "metadata": {},
   "source": [
    "For Loop for Index in Iterable Object\n",
    "29. Iterate Over List with Index\n",
    "\n",
    "Write a program that prints the index and value of each element in a list using a for loop."
   ]
  },
  {
   "cell_type": "code",
   "execution_count": null,
   "id": "6c9c82dd",
   "metadata": {},
   "outputs": [],
   "source": [
    "#Example\n",
    "colors = [\"red\", \"green\", \"blue\"]\n",
    "for index, color in enumerate(colors):\n",
    "    print(index, color)\n"
   ]
  },
  {
   "cell_type": "markdown",
   "id": "5ab99021",
   "metadata": {},
   "source": [
    "30. Modify List Elements\n",
    "\n",
    "Write a program that multiplies each element in a list by its index and prints the modified list."
   ]
  },
  {
   "cell_type": "code",
   "execution_count": null,
   "id": "caa152c1",
   "metadata": {},
   "outputs": [],
   "source": [
    "#Example\n",
    "numbers = [1, 2, 3, 4, 5]\n",
    "for index, value in enumerate(numbers):\n",
    "    numbers[index] = value * index\n",
    "print(numbers)\n"
   ]
  },
  {
   "cell_type": "markdown",
   "id": "8a6a194b",
   "metadata": {},
   "source": [
    "Set\n",
    "31. Create and Access Set\n",
    "\n",
    "Write a program to create a set of unique elements from a list and print the set."
   ]
  },
  {
   "cell_type": "code",
   "execution_count": null,
   "id": "93d4ba6d",
   "metadata": {},
   "outputs": [],
   "source": [
    "#Example\n",
    "numbers = [1, 2, 2, 3, 4, 4, 5]\n",
    "unique_numbers = set(numbers)\n",
    "print(unique_numbers)\n"
   ]
  },
  {
   "cell_type": "markdown",
   "id": "9533a9aa",
   "metadata": {},
   "source": [
    "32. Set Operations\n",
    "\n",
    "Write a program that performs union, intersection, and difference operations on two sets."
   ]
  },
  {
   "cell_type": "code",
   "execution_count": null,
   "id": "e32eb178",
   "metadata": {},
   "outputs": [],
   "source": [
    "#Example\n",
    "set1 = {1, 2, 3}\n",
    "set2 = {3, 4, 5}\n",
    "print(set1.union(set2))\n",
    "print(set1.intersection(set2))\n",
    "print(set1.difference(set2))\n"
   ]
  },
  {
   "cell_type": "markdown",
   "id": "6648af5c",
   "metadata": {},
   "source": [
    "33. List Comprehension\n",
    "Generate List of Squares\n",
    "\n",
    "Write a program that generates a list of squares of numbers from 1 to 10 using list comprehension."
   ]
  },
  {
   "cell_type": "code",
   "execution_count": null,
   "id": "e0c37585",
   "metadata": {},
   "outputs": [],
   "source": [
    "#Example\n",
    "squares = [x**2 for x in range(1, 11)]\n",
    "print(squares)\n"
   ]
  },
  {
   "cell_type": "markdown",
   "id": "39e24559",
   "metadata": {},
   "source": [
    "34. Filter Even Numbers\n",
    "\n",
    "Write a program that creates a list of even numbers from an existing list using list comprehension."
   ]
  },
  {
   "cell_type": "code",
   "execution_count": null,
   "id": "4d6d1d20",
   "metadata": {},
   "outputs": [],
   "source": [
    "#Example\n",
    "numbers = [1, 2, 3, 4, 5, 6, 7, 8, 9, 10]\n",
    "evens = [x for x in numbers if x % 2 == 0]\n",
    "print(evens)\n"
   ]
  },
  {
   "cell_type": "markdown",
   "id": "d811b80c",
   "metadata": {},
   "source": [
    "Functions\n",
    "35. Simple Function\n",
    "\n",
    "Write a function that takes a name as a parameter and prints a greeting message."
   ]
  },
  {
   "cell_type": "code",
   "execution_count": null,
   "id": "c30515f0",
   "metadata": {},
   "outputs": [],
   "source": [
    "#Example\n",
    "def greet(name):\n",
    "    print(\"Hello, \" + name + \"!\")\n",
    "\n",
    "greet(\"Alice\")\n"
   ]
  },
  {
   "cell_type": "markdown",
   "id": "5dd61af8",
   "metadata": {},
   "source": [
    "36. Function with Return Value\n",
    "\n",
    "Write a function that takes two numbers as parameters and returns their sum."
   ]
  },
  {
   "cell_type": "code",
   "execution_count": null,
   "id": "d718e6e9",
   "metadata": {},
   "outputs": [],
   "source": [
    "#Example\n",
    "def add(a, b):\n",
    "    return a + b\n",
    "\n",
    "result = add(5, 10)\n",
    "print(result)\n"
   ]
  },
  {
   "cell_type": "markdown",
   "id": "b012bf6e",
   "metadata": {},
   "source": [
    "Tasks with Function and If Statements\n",
    "\n",
    "37. Check Prime Number\n",
    "\n",
    "Write a function that takes a number as a parameter and returns True if the number is prime, else False."
   ]
  },
  {
   "cell_type": "code",
   "execution_count": null,
   "id": "470144ab",
   "metadata": {},
   "outputs": [],
   "source": [
    "#Example\n",
    "def is_prime(n):\n",
    "    if n <= 1:\n",
    "        return False\n",
    "    for i in range(2, int(n**0.5) + 1):\n",
    "        if n % i == 0:\n",
    "            return False\n",
    "    return True\n",
    "\n",
    "print(is_prime(17))  # True\n"
   ]
  },
  {
   "cell_type": "markdown",
   "id": "e4e728b8",
   "metadata": {},
   "source": [
    "38. Grade Calculation\n",
    "\n",
    "Write a function that takes a numerical grade as a parameter and returns the corresponding letter grade (A, B, C, D, or F)."
   ]
  },
  {
   "cell_type": "code",
   "execution_count": null,
   "id": "6d81d97d",
   "metadata": {},
   "outputs": [],
   "source": [
    "#Example\n",
    "def get_letter_grade(grade):\n",
    "    if grade >= 90:\n",
    "        return \"A\"\n",
    "    elif grade >= 80:\n",
    "        return \"B\"\n",
    "    elif grade >= 70:\n",
    "        return \"C\"\n",
    "    elif grade >= 60:\n",
    "        return \"D\"\n",
    "    else:\n",
    "        return \"F\"\n",
    "\n",
    "print(get_letter_grade(85))  # B\n"
   ]
  },
  {
   "cell_type": "markdown",
   "id": "099aefbf",
   "metadata": {},
   "source": [
    "Tasks with Functions and Loop\n",
    "39. Factorial Calculation\n",
    "\n",
    "Write a function that takes a number as a parameter and returns its factorial. Use a loop inside the function."
   ]
  },
  {
   "cell_type": "code",
   "execution_count": null,
   "id": "597fc3fc",
   "metadata": {},
   "outputs": [],
   "source": [
    "#Example\n",
    "def factorial(n):\n",
    "    result = 1\n",
    "    for i in range(1, n + 1):\n",
    "        result *= i\n",
    "    return result\n",
    "\n",
    "print(factorial(5))  # 120\n"
   ]
  },
  {
   "cell_type": "markdown",
   "id": "c794dae3",
   "metadata": {},
   "source": [
    "40. Generate Fibonacci Series\n",
    "\n",
    "Write a function that takes a number n as a parameter and returns the first n numbers in the Fibonacci series."
   ]
  },
  {
   "cell_type": "code",
   "execution_count": null,
   "id": "f86360a2",
   "metadata": {},
   "outputs": [],
   "source": [
    "#Example\n",
    "def fibonacci(n):\n",
    "    fib_series = [0, 1]\n",
    "    while len(fib_series) < n:\n",
    "        fib_series.append(fib_series[-1] + fib_series[-2])\n",
    "    return fib_series[:n]\n",
    "\n",
    "print(fibonacci(5))  # [0, 1, 1, 2, 3]\n"
   ]
  },
  {
   "cell_type": "markdown",
   "id": "0838eb9b",
   "metadata": {},
   "source": [
    "Numpy Library\n",
    "41. Array Creation and Operations\n",
    "\n",
    "Write a program to create a NumPy array of integers and perform basic operations (addition, multiplication) on it."
   ]
  },
  {
   "cell_type": "code",
   "execution_count": null,
   "id": "ea587eb9",
   "metadata": {},
   "outputs": [],
   "source": [
    "#Example\n",
    "import numpy as np\n",
    "\n",
    "arr = np.array([1, 2, 3, 4, 5])\n",
    "arr_sum = np.sum(arr)\n",
    "arr_product = np.prod(arr)\n",
    "print(arr_sum, arr_product)\n"
   ]
  },
  {
   "cell_type": "markdown",
   "id": "d86ab281",
   "metadata": {},
   "source": [
    "42. Matrix Operations\n",
    "\n",
    "Write a program to create two NumPy matrices and perform matrix multiplication."
   ]
  },
  {
   "cell_type": "code",
   "execution_count": null,
   "id": "c963931e",
   "metadata": {},
   "outputs": [],
   "source": [
    "#Example\n",
    "import numpy as np\n",
    "\n",
    "mat1 = np.array([[1, 2], [3, 4]])\n",
    "mat2 = np.array([[5, 6], [7, 8]])\n",
    "result = np.dot(mat1, mat2)\n",
    "print(result)\n"
   ]
  },
  {
   "cell_type": "markdown",
   "id": "f25c2dab",
   "metadata": {},
   "source": [
    "Numpy Functions\n",
    "43. Statistical Functions\n",
    "\n",
    "Write a program to calculate mean, median, and standard deviation of a NumPy array."
   ]
  },
  {
   "cell_type": "code",
   "execution_count": null,
   "id": "568854d3",
   "metadata": {},
   "outputs": [],
   "source": [
    "#Example\n",
    "import numpy as np\n",
    "\n",
    "arr = np.array([1, 2, 3, 4, 5])\n",
    "mean = np.mean(arr)\n",
    "median = np.median(arr)\n",
    "std_dev = np.std(arr)\n",
    "print(mean, median, std_dev)\n"
   ]
  },
  {
   "cell_type": "markdown",
   "id": "0049f5c4",
   "metadata": {},
   "source": [
    "44. Random Array Generation\n",
    "\n",
    "Write a program to generate a NumPy array of random numbers and sort it."
   ]
  },
  {
   "cell_type": "code",
   "execution_count": null,
   "id": "e487f911",
   "metadata": {},
   "outputs": [],
   "source": [
    "#Example\n",
    "import numpy as np\n",
    "\n",
    "random_arr = np.random.rand(10)\n",
    "sorted_arr = np.sort(random_arr)\n",
    "print(sorted_arr)\n"
   ]
  },
  {
   "cell_type": "markdown",
   "id": "8d300b9a",
   "metadata": {},
   "source": [
    "45. Math Package\n",
    "Basic Math Functions\n",
    "\n",
    "Write a program to use basic math functions (sqrt, sin, cos, log) from the math module."
   ]
  },
  {
   "cell_type": "code",
   "execution_count": null,
   "id": "add1d075",
   "metadata": {},
   "outputs": [],
   "source": [
    "#Example\n",
    "import math\n",
    "\n",
    "num = 16\n",
    "print(math.sqrt(num))\n",
    "angle = math.radians(45)\n",
    "print(math.sin(angle), math.cos(angle))\n",
    "print(math.log(num))\n"
   ]
  },
  {
   "cell_type": "markdown",
   "id": "35b30c5c",
   "metadata": {},
   "source": [
    "46. Factorial and GCD\n",
    "\n",
    "Write a program to calculate the factorial of a number and the greatest common divisor (GCD) of two numbers using the math module."
   ]
  },
  {
   "cell_type": "code",
   "execution_count": null,
   "id": "18b9e28d",
   "metadata": {},
   "outputs": [],
   "source": [
    "#Example\n",
    "import math\n",
    "\n",
    "print(math.factorial(5))\n",
    "print(math.gcd(48, 180))\n"
   ]
  },
  {
   "cell_type": "markdown",
   "id": "4e86d009",
   "metadata": {},
   "source": [
    "Random Package\n",
    "\n",
    "47. Random Number Generation\n",
    "\n",
    "Write a program to generate a random integer between 1 and 100 and a random float between 0 and 1 using the random module."
   ]
  },
  {
   "cell_type": "code",
   "execution_count": null,
   "id": "13c6b362",
   "metadata": {},
   "outputs": [],
   "source": [
    "#Example\n",
    "import random\n",
    "\n",
    "rand_int = random.randint(1, 100)\n",
    "rand_float = random.random()\n",
    "print(rand_int, rand_float)\n"
   ]
  },
  {
   "cell_type": "markdown",
   "id": "01bf0221",
   "metadata": {},
   "source": [
    "48. Shuffle List\n",
    "\n",
    "Write a program to shuffle a list of numbers using the random module."
   ]
  },
  {
   "cell_type": "code",
   "execution_count": null,
   "id": "0f16883a",
   "metadata": {},
   "outputs": [],
   "source": [
    "#Example\n",
    "import random\n",
    "\n",
    "numbers = [1, 2, 3, 4, 5]\n",
    "random.shuffle(numbers)\n",
    "print(numbers)\n"
   ]
  },
  {
   "cell_type": "markdown",
   "id": "0afd1f12",
   "metadata": {},
   "source": [
    "Statistics Package\n",
    "49. Descriptive Statistics\n",
    "\n",
    "Write a program to calculate the mean, median, mode, and standard deviation of a list of numbers using the statistics module."
   ]
  },
  {
   "cell_type": "code",
   "execution_count": null,
   "id": "0d506b6c",
   "metadata": {},
   "outputs": [],
   "source": [
    "#Example\n",
    "import statistics\n",
    "\n",
    "data = [1, 2, 2, 3, 4]\n",
    "mean = statistics.mean(data)\n",
    "median = statistics.median(data)\n",
    "mode = statistics.mode(data)\n",
    "std_dev = statistics.stdev(data)\n",
    "print(mean, median, mode, std_dev)\n"
   ]
  },
  {
   "cell_type": "markdown",
   "id": "66c38eeb",
   "metadata": {},
   "source": [
    "50. Variance and Harmonic Mean\n",
    "\n",
    "Write a program to calculate the variance and harmonic mean of a list of numbers using the statistics module."
   ]
  },
  {
   "cell_type": "code",
   "execution_count": null,
   "id": "6b1df85a",
   "metadata": {},
   "outputs": [],
   "source": [
    "#Example\n",
    "import statistics\n",
    "\n",
    "data = [1, 2, 3, 4, 5]\n",
    "variance = statistics.variance(data)\n",
    "harmonic_mean = statistics.harmonic_mean(data)\n",
    "print(variance, harmonic_mean)\n"
   ]
  },
  {
   "cell_type": "markdown",
   "id": "3b613cc9",
   "metadata": {},
   "source": [
    "Time and Date\n",
    "51. Current Date and Time\n",
    "\n",
    "Write a program to print the current date and time using the datetime module."
   ]
  },
  {
   "cell_type": "code",
   "execution_count": null,
   "id": "f61dbc0e",
   "metadata": {},
   "outputs": [],
   "source": [
    "#Example\n",
    "from datetime import datetime\n",
    "\n",
    "current_datetime = datetime.now()\n",
    "print(current_datetime)\n"
   ]
  },
  {
   "cell_type": "markdown",
   "id": "6ff963bd",
   "metadata": {},
   "source": [
    "52. Date Difference\n",
    "\n",
    "Write a program to calculate the difference between two dates."
   ]
  },
  {
   "cell_type": "code",
   "execution_count": null,
   "id": "83a6f4c0",
   "metadata": {},
   "outputs": [],
   "source": [
    "#Example\n",
    "from datetime import datetime\n",
    "\n",
    "date1 = datetime(2020, 1, 1)\n",
    "date2 = datetime(2024, 1, 1)\n",
    "diff = date2 - date1\n",
    "print(diff.days)\n"
   ]
  },
  {
   "cell_type": "markdown",
   "id": "b557fccc",
   "metadata": {},
   "source": [
    "Time Functions\n",
    "53. Sleep Function\n",
    "\n",
    "Write a program that waits for 5 seconds before printing \"Hello, World!\"."
   ]
  },
  {
   "cell_type": "code",
   "execution_count": null,
   "id": "d031965d",
   "metadata": {},
   "outputs": [],
   "source": [
    "#Example\n",
    "import time\n",
    "\n",
    "time.sleep(5)\n",
    "print(\"Hello, World!\")\n"
   ]
  },
  {
   "cell_type": "markdown",
   "id": "0b8177af",
   "metadata": {},
   "source": [
    "54. Measure Execution Time\n",
    "\n",
    "Write a program to measure and print the execution time of a function."
   ]
  },
  {
   "cell_type": "code",
   "execution_count": null,
   "id": "610692ca",
   "metadata": {},
   "outputs": [],
   "source": [
    "#Example\n",
    "import time\n",
    "\n",
    "def example_function():\n",
    "    total = 0\n",
    "    for i in range(1, 1000000):\n",
    "        total += i\n",
    "    return total\n",
    "\n",
    "start_time = time.time()\n",
    "example_function()\n",
    "end_time = time.time()\n",
    "execution_time = end_time - start_time\n",
    "print(\"Execution time:\", execution_time)\n"
   ]
  },
  {
   "cell_type": "markdown",
   "id": "65d44acd",
   "metadata": {},
   "source": [
    "Debugging and Errors\n",
    "55. Syntax Error Example\n",
    "\n",
    "Write a program that contains a deliberate syntax error and explain how to fix it."
   ]
  },
  {
   "cell_type": "code",
   "execution_count": null,
   "id": "89561556",
   "metadata": {},
   "outputs": [],
   "source": [
    "#Example\n",
    "# Missing colon at the end of the for loop\n",
    "for i in range(5)\n",
    "    print(i)\n",
    "# Fix: Add colon at the end of the for loop\n"
   ]
  },
  {
   "cell_type": "markdown",
   "id": "c18031f3",
   "metadata": {},
   "source": [
    "56. Logical Error Example\n",
    "\n",
    "Write a program that contains a logical error and explain how to fix it.\n"
   ]
  },
  {
   "cell_type": "code",
   "execution_count": null,
   "id": "a2e34c31",
   "metadata": {},
   "outputs": [],
   "source": [
    "#Example\n",
    "# Incorrect calculation of average\n",
    "total = 10\n",
    "count = 0\n",
    "average = total / count  # This will cause a ZeroDivisionError\n",
    "# Fix: Ensure count is not zero\n"
   ]
  },
  {
   "cell_type": "markdown",
   "id": "83cf7acb",
   "metadata": {},
   "source": [
    "57. Try and Except\n",
    "Handle Division by Zero\n",
    "\n",
    "Write a program that takes two numbers as input and divides the first by the second. Handle division by zero using try-except."
   ]
  },
  {
   "cell_type": "code",
   "execution_count": null,
   "id": "d68ea947",
   "metadata": {},
   "outputs": [],
   "source": [
    "#Example\n",
    "try:\n",
    "    a = int(input(\"Enter the first number: \"))\n",
    "    b = int(input(\"Enter the second number: \"))\n",
    "    result = a / b\n",
    "    print(result)\n",
    "except ZeroDivisionError:\n",
    "    print(\"Division by zero is not allowed.\")\n"
   ]
  },
  {
   "cell_type": "markdown",
   "id": "7eb0eae2",
   "metadata": {},
   "source": [
    "58. Handle ValueError\n",
    "\n",
    "Write a program that takes a number as input and handles the ValueError if the input is not a valid number."
   ]
  },
  {
   "cell_type": "code",
   "execution_count": null,
   "id": "4d270d5f",
   "metadata": {},
   "outputs": [],
   "source": [
    "#Example\n",
    "try:\n",
    "    number = int(input(\"Enter a number: \"))\n",
    "    print(\"You entered:\", number)\n",
    "except ValueError:\n",
    "    print(\"Invalid input, please enter a valid number.\")\n"
   ]
  },
  {
   "cell_type": "markdown",
   "id": "c1ccfec3",
   "metadata": {},
   "source": [
    "Tasks with Function and Try-Except Error\n",
    "59. Safe Division Function\n",
    "\n",
    "Write a function that takes two numbers as parameters and returns their division. Handle division by zero using try-except inside the function."
   ]
  },
  {
   "cell_type": "code",
   "execution_count": null,
   "id": "c9b86e66",
   "metadata": {},
   "outputs": [],
   "source": [
    "#Example\n",
    "def safe_divide(a, b):\n",
    "    try:\n",
    "        return a / b\n",
    "    except ZeroDivisionError:\n",
    "        return \"Division by zero is not allowed.\"\n",
    "\n",
    "print(safe_divide(10, 2))\n",
    "print(safe_divide(10, 0))\n"
   ]
  },
  {
   "cell_type": "markdown",
   "id": "c403a449",
   "metadata": {},
   "source": [
    "60. Convert Input to Integer\n",
    "\n",
    "Write a function that takes a string as input and returns the integer value if the input is a valid integer. Handle the ValueError using try-except inside the function."
   ]
  },
  {
   "cell_type": "code",
   "execution_count": null,
   "id": "c0c730cb",
   "metadata": {},
   "outputs": [],
   "source": [
    "#Example\n",
    "def convert_to_int(s):\n",
    "    try:\n",
    "        return int(s)\n",
    "    except ValueError:\n",
    "        return \"Invalid input, not an integer.\"\n",
    "\n",
    "print(convert_to_int(\"123\"))\n",
    "print(convert_to_int(\"abc\"))\n"
   ]
  },
  {
   "cell_type": "markdown",
   "id": "76c08743",
   "metadata": {},
   "source": [
    "Class\n",
    "61. Basic Class\n",
    "\n",
    "Write a Python class named Person with attributes name and age. Create an instance of the class and print its attributes."
   ]
  },
  {
   "cell_type": "code",
   "execution_count": null,
   "id": "1b45bcc9",
   "metadata": {},
   "outputs": [],
   "source": [
    "#Example\n",
    "class Person:\n",
    "    def __init__(self, name, age):\n",
    "        self.name = name\n",
    "        self.age = age\n",
    "\n",
    "person = Person(\"Alice\", 30)\n",
    "print(person.name, person.age)\n"
   ]
  },
  {
   "cell_type": "markdown",
   "id": "f081805d",
   "metadata": {},
   "source": [
    "62. Class with Methods\n",
    "\n",
    "Write a Python class named Rectangle with methods to calculate the area and perimeter. Create an instance of the class and print the area and perimeter."
   ]
  },
  {
   "cell_type": "code",
   "execution_count": null,
   "id": "4ce45eba",
   "metadata": {},
   "outputs": [],
   "source": [
    "#Example\n",
    "class Rectangle:\n",
    "    def __init__(self, length, width):\n",
    "        self.length = length\n",
    "        self.width = width\n",
    "    \n",
    "    def area(self):\n",
    "        return self.length * self.width\n",
    "    \n",
    "    def perimeter(self):\n",
    "        return 2 * (self.length + self.width)\n",
    "\n",
    "rectangle = Rectangle(5, 3)\n",
    "print(rectangle.area())\n",
    "print(rectangle.perimeter())\n"
   ]
  },
  {
   "cell_type": "markdown",
   "id": "2ead8433",
   "metadata": {},
   "source": [
    "Tasks with Class\n",
    "63. Bank Account Class\n",
    "\n",
    "Write a Python class named BankAccount with attributes account_number and balance, and methods to deposit and withdraw. Create an instance and test the methods."
   ]
  },
  {
   "cell_type": "code",
   "execution_count": null,
   "id": "2ae03659",
   "metadata": {},
   "outputs": [],
   "source": [
    "#Example\n",
    "class BankAccount:\n",
    "    def __init__(self, account_number, balance=0):\n",
    "        self.account_number = account_number\n",
    "        self.balance = balance\n",
    "    \n",
    "    def deposit(self, amount):\n",
    "        self.balance += amount\n",
    "    \n",
    "    def withdraw(self, amount):\n",
    "        if amount > self.balance:\n",
    "            return \"Insufficient funds\"\n",
    "        else:\n",
    "            self.balance -= amount\n",
    "\n",
    "account = BankAccount(\"12345678\")\n",
    "account.deposit(500)\n",
    "print(account.balance)\n",
    "account.withdraw(200)\n",
    "print(account.balance)\n",
    "account.withdraw(500)  # Insufficient funds\n"
   ]
  },
  {
   "cell_type": "markdown",
   "id": "0a645bba",
   "metadata": {},
   "source": [
    "64. Library Management System\n",
    "\n",
    "Write a Python class named Book with attributes title, author, and status (available/borrowed). Create a class Library to manage a collection of books with methods to add_book, borrow_book, and return_book. Create instances and demonstrate library operations."
   ]
  },
  {
   "cell_type": "code",
   "execution_count": null,
   "id": "2533c758",
   "metadata": {},
   "outputs": [],
   "source": [
    "#Example\n",
    "class Book:\n",
    "    def __init__(self, title, author):\n",
    "        self.title = title\n",
    "        self.author = author\n",
    "        self.status = \"available\"\n",
    "    \n",
    "    def borrow(self):\n",
    "        if self.status == \"available\":\n",
    "            self.status = \"borrowed\"\n",
    "            return True\n",
    "        return False\n",
    "    \n",
    "    def return_book(self):\n",
    "        self.status = \"available\"\n",
    "\n",
    "class Library:\n",
    "    def __init__(self):\n",
    "        self.books = []\n",
    "    \n",
    "    def add_book(self, book):\n",
    "        self.books.append(book)\n",
    "    \n",
    "    def borrow_book(self, title):\n",
    "        for book in self.books:\n",
    "            if book.title == title and book.status == \"available\":\n",
    "                book.borrow()\n",
    "                return \"You have borrowed the book.\"\n",
    "        return \"Book not available.\"\n",
    "    \n",
    "    def return_book(self, title):\n",
    "        for book in self.books:\n",
    "            if book.title == title and book.status == \"borrowed\":\n",
    "                book.return_book()\n",
    "                return \"You have returned the book.\"\n",
    "        return \"Book not found.\"\n",
    "\n",
    "library = Library()\n",
    "book1 = Book(\"1984\", \"George Orwell\")\n",
    "book2 = Book(\"To Kill a Mockingbird\", \"Harper Lee\")\n",
    "\n",
    "library.add_book(book1)\n",
    "library.add_book(book2)\n",
    "\n",
    "print(library.borrow_book(\"1984\"))  # You have borrowed the book.\n",
    "print(library.borrow_book(\"1984\"))  # Book not available.\n",
    "print(library.return_book(\"1984\"))  # You have returned the book.\n"
   ]
  }
 ],
 "metadata": {
  "kernelspec": {
   "display_name": "Python 3 (ipykernel)",
   "language": "python",
   "name": "python3"
  },
  "language_info": {
   "codemirror_mode": {
    "name": "ipython",
    "version": 3
   },
   "file_extension": ".py",
   "mimetype": "text/x-python",
   "name": "python",
   "nbconvert_exporter": "python",
   "pygments_lexer": "ipython3",
   "version": "3.11.5"
  }
 },
 "nbformat": 4,
 "nbformat_minor": 5
}
